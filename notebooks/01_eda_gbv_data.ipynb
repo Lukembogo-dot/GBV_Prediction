{
 "cells": [
  {
   "cell_type": "code",
   "execution_count": 120,
   "id": "5753160f",
   "metadata": {},
   "outputs": [
    {
     "data": {
      "text/html": [
       "<div>\n",
       "<style scoped>\n",
       "    .dataframe tbody tr th:only-of-type {\n",
       "        vertical-align: middle;\n",
       "    }\n",
       "\n",
       "    .dataframe tbody tr th {\n",
       "        vertical-align: top;\n",
       "    }\n",
       "\n",
       "    .dataframe thead th {\n",
       "        text-align: right;\n",
       "    }\n",
       "</style>\n",
       "<table border=\"1\" class=\"dataframe\">\n",
       "  <thead>\n",
       "    <tr style=\"text-align: right;\">\n",
       "      <th></th>\n",
       "      <th>SL. No</th>\n",
       "      <th>Age</th>\n",
       "      <th>Education</th>\n",
       "      <th>Employment</th>\n",
       "      <th>Income</th>\n",
       "      <th>Marital status</th>\n",
       "      <th>Violence</th>\n",
       "    </tr>\n",
       "  </thead>\n",
       "  <tbody>\n",
       "    <tr>\n",
       "      <th>0</th>\n",
       "      <td>1</td>\n",
       "      <td>30</td>\n",
       "      <td>secondary</td>\n",
       "      <td>unemployed</td>\n",
       "      <td>0</td>\n",
       "      <td>married</td>\n",
       "      <td>yes</td>\n",
       "    </tr>\n",
       "    <tr>\n",
       "      <th>1</th>\n",
       "      <td>2</td>\n",
       "      <td>47</td>\n",
       "      <td>tertiary</td>\n",
       "      <td>unemployed</td>\n",
       "      <td>0</td>\n",
       "      <td>married</td>\n",
       "      <td>no</td>\n",
       "    </tr>\n",
       "    <tr>\n",
       "      <th>2</th>\n",
       "      <td>3</td>\n",
       "      <td>24</td>\n",
       "      <td>tertiary</td>\n",
       "      <td>unemployed</td>\n",
       "      <td>0</td>\n",
       "      <td>unmarred</td>\n",
       "      <td>no</td>\n",
       "    </tr>\n",
       "    <tr>\n",
       "      <th>3</th>\n",
       "      <td>4</td>\n",
       "      <td>22</td>\n",
       "      <td>tertiary</td>\n",
       "      <td>unemployed</td>\n",
       "      <td>0</td>\n",
       "      <td>unmarred</td>\n",
       "      <td>no</td>\n",
       "    </tr>\n",
       "    <tr>\n",
       "      <th>4</th>\n",
       "      <td>5</td>\n",
       "      <td>50</td>\n",
       "      <td>primary</td>\n",
       "      <td>unemployed</td>\n",
       "      <td>0</td>\n",
       "      <td>married</td>\n",
       "      <td>yes</td>\n",
       "    </tr>\n",
       "  </tbody>\n",
       "</table>\n",
       "</div>"
      ],
      "text/plain": [
       "   SL. No  Age Education  Employment   Income Marital status  Violence \n",
       "0       1   30  secondary  unemployed       0         married       yes\n",
       "1       2   47   tertiary  unemployed       0         married        no\n",
       "2       3   24   tertiary  unemployed       0        unmarred        no\n",
       "3       4   22   tertiary  unemployed       0        unmarred        no\n",
       "4       5   50    primary  unemployed       0         married       yes"
      ]
     },
     "execution_count": 120,
     "metadata": {},
     "output_type": "execute_result"
    }
   ],
   "source": [
    "import pandas as pd\n",
    "\n",
    "# Load dataset\n",
    "df = pd.read_csv(\"../data/Domestic violence.csv\")\n",
    "\n",
    "# Display top rows\n",
    "df.head()\n"
   ]
  },
  {
   "cell_type": "code",
   "execution_count": 121,
   "id": "bae709e1",
   "metadata": {},
   "outputs": [
    {
     "name": "stdout",
     "output_type": "stream",
     "text": [
      "(347, 6)\n",
      "Index(['Age', 'Education', 'Employment', 'Income', 'Marital status',\n",
      "       'Violence'],\n",
      "      dtype='object')\n",
      "   Age  Education  Employment  Income Marital status Violence\n",
      "0   30  secondary  unemployed       0        married      yes\n",
      "1   47   tertiary  unemployed       0        married       no\n",
      "2   24   tertiary  unemployed       0       unmarred       no\n",
      "3   22   tertiary  unemployed       0       unmarred       no\n",
      "4   50    primary  unemployed       0        married      yes\n"
     ]
    }
   ],
   "source": [
    "import pandas as pd\n",
    "\n",
    "# Load data into df_model\n",
    "df_model = pd.read_csv(\"../data/Domestic violence.csv\")\n",
    "\n",
    "# Clean column names\n",
    "df_model.columns = df_model.columns.str.strip()\n",
    "# Drop SL. No if it’s not needed\n",
    "df_model = df_model.drop(columns=['SL. No'])\n",
    "\n",
    "# Check load\n",
    "print(df_model.shape)\n",
    "print(df_model.columns)\n",
    "print(df_model.head())\n"
   ]
  },
  {
   "cell_type": "code",
   "execution_count": 122,
   "id": "c3894b27",
   "metadata": {},
   "outputs": [
    {
     "name": "stdout",
     "output_type": "stream",
     "text": [
      "'SL. No'\n",
      "'Age'\n",
      "'Education '\n",
      "'Employment '\n",
      "'Income'\n",
      "'Marital status '\n",
      "'Violence '\n"
     ]
    }
   ],
   "source": [
    "for col in df.columns:\n",
    "    print(f\"'{col}'\")\n"
   ]
  },
  {
   "cell_type": "code",
   "execution_count": 123,
   "id": "ffedc0fb",
   "metadata": {},
   "outputs": [
    {
     "name": "stdout",
     "output_type": "stream",
     "text": [
      "<class 'pandas.core.frame.DataFrame'>\n",
      "RangeIndex: 347 entries, 0 to 346\n",
      "Data columns (total 7 columns):\n",
      " #   Column           Non-Null Count  Dtype \n",
      "---  ------           --------------  ----- \n",
      " 0   SL. No           347 non-null    int64 \n",
      " 1   Age              347 non-null    int64 \n",
      " 2   Education        347 non-null    object\n",
      " 3   Employment       347 non-null    object\n",
      " 4   Income           347 non-null    int64 \n",
      " 5   Marital status   347 non-null    object\n",
      " 6   Violence         347 non-null    object\n",
      "dtypes: int64(3), object(4)\n",
      "memory usage: 19.1+ KB\n"
     ]
    },
    {
     "data": {
      "text/plain": [
       "SL. No             0\n",
       "Age                0\n",
       "Education          0\n",
       "Employment         0\n",
       "Income             0\n",
       "Marital status     0\n",
       "Violence           0\n",
       "dtype: int64"
      ]
     },
     "execution_count": 123,
     "metadata": {},
     "output_type": "execute_result"
    }
   ],
   "source": [
    "df.info()\n",
    "df.isnull().sum()\n"
   ]
  },
  {
   "cell_type": "code",
   "execution_count": 124,
   "id": "aebdc53d",
   "metadata": {},
   "outputs": [
    {
     "data": {
      "text/html": [
       "<div>\n",
       "<style scoped>\n",
       "    .dataframe tbody tr th:only-of-type {\n",
       "        vertical-align: middle;\n",
       "    }\n",
       "\n",
       "    .dataframe tbody tr th {\n",
       "        vertical-align: top;\n",
       "    }\n",
       "\n",
       "    .dataframe thead th {\n",
       "        text-align: right;\n",
       "    }\n",
       "</style>\n",
       "<table border=\"1\" class=\"dataframe\">\n",
       "  <thead>\n",
       "    <tr style=\"text-align: right;\">\n",
       "      <th></th>\n",
       "      <th>SL. No</th>\n",
       "      <th>Age</th>\n",
       "      <th>Education</th>\n",
       "      <th>Employment</th>\n",
       "      <th>Income</th>\n",
       "      <th>Marital status</th>\n",
       "      <th>Violence</th>\n",
       "    </tr>\n",
       "  </thead>\n",
       "  <tbody>\n",
       "    <tr>\n",
       "      <th>count</th>\n",
       "      <td>347.000000</td>\n",
       "      <td>347.000000</td>\n",
       "      <td>347</td>\n",
       "      <td>347</td>\n",
       "      <td>347.000000</td>\n",
       "      <td>347</td>\n",
       "      <td>347</td>\n",
       "    </tr>\n",
       "    <tr>\n",
       "      <th>unique</th>\n",
       "      <td>NaN</td>\n",
       "      <td>NaN</td>\n",
       "      <td>4</td>\n",
       "      <td>4</td>\n",
       "      <td>NaN</td>\n",
       "      <td>2</td>\n",
       "      <td>2</td>\n",
       "    </tr>\n",
       "    <tr>\n",
       "      <th>top</th>\n",
       "      <td>NaN</td>\n",
       "      <td>NaN</td>\n",
       "      <td>primary</td>\n",
       "      <td>unemployed</td>\n",
       "      <td>NaN</td>\n",
       "      <td>married</td>\n",
       "      <td>no</td>\n",
       "    </tr>\n",
       "    <tr>\n",
       "      <th>freq</th>\n",
       "      <td>NaN</td>\n",
       "      <td>NaN</td>\n",
       "      <td>132</td>\n",
       "      <td>274</td>\n",
       "      <td>NaN</td>\n",
       "      <td>300</td>\n",
       "      <td>261</td>\n",
       "    </tr>\n",
       "    <tr>\n",
       "      <th>mean</th>\n",
       "      <td>174.000000</td>\n",
       "      <td>31.380403</td>\n",
       "      <td>NaN</td>\n",
       "      <td>NaN</td>\n",
       "      <td>2110.685879</td>\n",
       "      <td>NaN</td>\n",
       "      <td>NaN</td>\n",
       "    </tr>\n",
       "    <tr>\n",
       "      <th>std</th>\n",
       "      <td>100.314505</td>\n",
       "      <td>9.601569</td>\n",
       "      <td>NaN</td>\n",
       "      <td>NaN</td>\n",
       "      <td>5743.278766</td>\n",
       "      <td>NaN</td>\n",
       "      <td>NaN</td>\n",
       "    </tr>\n",
       "    <tr>\n",
       "      <th>min</th>\n",
       "      <td>1.000000</td>\n",
       "      <td>15.000000</td>\n",
       "      <td>NaN</td>\n",
       "      <td>NaN</td>\n",
       "      <td>0.000000</td>\n",
       "      <td>NaN</td>\n",
       "      <td>NaN</td>\n",
       "    </tr>\n",
       "    <tr>\n",
       "      <th>25%</th>\n",
       "      <td>87.500000</td>\n",
       "      <td>23.000000</td>\n",
       "      <td>NaN</td>\n",
       "      <td>NaN</td>\n",
       "      <td>0.000000</td>\n",
       "      <td>NaN</td>\n",
       "      <td>NaN</td>\n",
       "    </tr>\n",
       "    <tr>\n",
       "      <th>50%</th>\n",
       "      <td>174.000000</td>\n",
       "      <td>30.000000</td>\n",
       "      <td>NaN</td>\n",
       "      <td>NaN</td>\n",
       "      <td>0.000000</td>\n",
       "      <td>NaN</td>\n",
       "      <td>NaN</td>\n",
       "    </tr>\n",
       "    <tr>\n",
       "      <th>75%</th>\n",
       "      <td>260.500000</td>\n",
       "      <td>39.500000</td>\n",
       "      <td>NaN</td>\n",
       "      <td>NaN</td>\n",
       "      <td>0.000000</td>\n",
       "      <td>NaN</td>\n",
       "      <td>NaN</td>\n",
       "    </tr>\n",
       "    <tr>\n",
       "      <th>max</th>\n",
       "      <td>347.000000</td>\n",
       "      <td>60.000000</td>\n",
       "      <td>NaN</td>\n",
       "      <td>NaN</td>\n",
       "      <td>35000.000000</td>\n",
       "      <td>NaN</td>\n",
       "      <td>NaN</td>\n",
       "    </tr>\n",
       "  </tbody>\n",
       "</table>\n",
       "</div>"
      ],
      "text/plain": [
       "            SL. No         Age Education  Employment         Income  \\\n",
       "count   347.000000  347.000000        347         347    347.000000   \n",
       "unique         NaN         NaN          4           4           NaN   \n",
       "top            NaN         NaN    primary  unemployed           NaN   \n",
       "freq           NaN         NaN        132         274           NaN   \n",
       "mean    174.000000   31.380403        NaN         NaN   2110.685879   \n",
       "std     100.314505    9.601569        NaN         NaN   5743.278766   \n",
       "min       1.000000   15.000000        NaN         NaN      0.000000   \n",
       "25%      87.500000   23.000000        NaN         NaN      0.000000   \n",
       "50%     174.000000   30.000000        NaN         NaN      0.000000   \n",
       "75%     260.500000   39.500000        NaN         NaN      0.000000   \n",
       "max     347.000000   60.000000        NaN         NaN  35000.000000   \n",
       "\n",
       "       Marital status  Violence   \n",
       "count              347       347  \n",
       "unique               2         2  \n",
       "top            married        no  \n",
       "freq               300       261  \n",
       "mean               NaN       NaN  \n",
       "std                NaN       NaN  \n",
       "min                NaN       NaN  \n",
       "25%                NaN       NaN  \n",
       "50%                NaN       NaN  \n",
       "75%                NaN       NaN  \n",
       "max                NaN       NaN  "
      ]
     },
     "execution_count": 124,
     "metadata": {},
     "output_type": "execute_result"
    }
   ],
   "source": [
    "df.describe(include='all')\n"
   ]
  },
  {
   "cell_type": "code",
   "execution_count": 125,
   "id": "42357cf4",
   "metadata": {},
   "outputs": [],
   "source": [
    "df = pd.read_csv('../data/Domestic violence.csv')\n",
    "df.columns = df.columns.str.strip()\n",
    "df.columns = df.columns.str.strip()  # Clean column names\n",
    "df = df.drop(columns=['SL. No'])     # Drop identifier column\n",
    "assert 'Education' in df_model.columns, \"Check if df_model is loaded properly\"\n",
    "\n"
   ]
  },
  {
   "cell_type": "code",
   "execution_count": 126,
   "id": "ebc6f3ed",
   "metadata": {},
   "outputs": [
    {
     "name": "stdout",
     "output_type": "stream",
     "text": [
      "['Age', 'Education', 'Employment', 'Income', 'Marital status', 'Violence']\n"
     ]
    }
   ],
   "source": [
    "print(df.columns.tolist())"
   ]
  },
  {
   "cell_type": "code",
   "execution_count": 127,
   "id": "1b3bcef9",
   "metadata": {},
   "outputs": [
    {
     "name": "stdout",
     "output_type": "stream",
     "text": [
      "['Age', 'Education', 'Employment', 'Income', 'Marital status', 'Violence']\n"
     ]
    }
   ],
   "source": [
    "df['Violence'].value_counts()\n",
    "print(df.columns.tolist())"
   ]
  },
  {
   "cell_type": "code",
   "execution_count": 128,
   "id": "4fce410f",
   "metadata": {},
   "outputs": [
    {
     "name": "stdout",
     "output_type": "stream",
     "text": [
      "['Age', 'Education', 'Employment', 'Income', 'Marital status', 'Violence']\n",
      "   Age  Education  Employment  Income  Marital status  Violence\n",
      "0   30          2           3       0               0         1\n",
      "1   47          3           3       0               0         0\n",
      "2   24          3           3       0               1         0\n",
      "3   22          3           3       0               1         0\n",
      "4   50          1           3       0               0         1\n"
     ]
    }
   ],
   "source": [
    "from sklearn.preprocessing import LabelEncoder, StandardScaler\n",
    "import pandas as pd\n",
    "import joblib\n",
    "\n",
    "# 1. Load your dataset\n",
    "df_model = pd.read_csv(\"../data/Domestic violence.csv\")\n",
    "\n",
    "# 2. Clean column names\n",
    "df_model.columns = df_model.columns.str.strip()\n",
    "\n",
    "# 3. Drop unnecessary column\n",
    "df_model = df_model.drop(columns=['SL. No'], errors='ignore')\n",
    "\n",
    "# 4. Encode categorical columns\n",
    "label_enc = LabelEncoder()\n",
    "for col in ['Education', 'Employment', 'Marital status', 'Violence']:\n",
    "    df_model[col] = label_enc.fit_transform(df_model[col].astype(str))\n",
    "\n",
    "# 5. Split into features/target\n",
    "X = df_model.drop(columns=['Violence'])  # All numeric now\n",
    "y = df_model['Violence']\n",
    "\n",
    "# 6. Scale features\n",
    "scaler = StandardScaler()\n",
    "X_scaled = scaler.fit_transform(X)\n",
    "\n",
    "# 7. Save\n",
    "joblib.dump(scaler, 'scaler.pkl')\n",
    "joblib.dump(smote_rf, 'violence_rf_model.pkl')\n",
    "\n",
    "# 8. Confirm\n",
    "print(df_model.columns.tolist())\n",
    "print(df_model.head())\n",
    "\n"
   ]
  },
  {
   "cell_type": "code",
   "execution_count": 129,
   "id": "a91e8edf",
   "metadata": {},
   "outputs": [
    {
     "name": "stdout",
     "output_type": "stream",
     "text": [
      "Train set: (277, 6), Test set: (70, 6)\n"
     ]
    }
   ],
   "source": [
    "from sklearn.model_selection import train_test_split\n",
    "\n",
    "# Define features and target\n",
    "X = df_encoded.drop('Violence', axis=1)\n",
    "y = df_encoded['Violence']\n",
    "\n",
    "# Train-test split\n",
    "from sklearn.model_selection import train_test_split\n",
    "X_train, X_test, y_train, y_test = train_test_split(\n",
    "    X, y, test_size=0.2, random_state=42, stratify=y\n",
    ")\n",
    "\n",
    "print(f\"Train set: {X_train.shape}, Test set: {X_test.shape}\")"
   ]
  },
  {
   "cell_type": "code",
   "execution_count": 130,
   "id": "f8917526",
   "metadata": {},
   "outputs": [
    {
     "name": "stdout",
     "output_type": "stream",
     "text": [
      "Accuracy: 0.5\n",
      "\n",
      "Confusion Matrix:\n",
      " [[22 31]\n",
      " [ 4 13]]\n",
      "\n",
      "Classification Report:\n",
      "               precision    recall  f1-score   support\n",
      "\n",
      "           0       0.85      0.42      0.56        53\n",
      "           1       0.30      0.76      0.43        17\n",
      "\n",
      "    accuracy                           0.50        70\n",
      "   macro avg       0.57      0.59      0.49        70\n",
      "weighted avg       0.71      0.50      0.53        70\n",
      "\n"
     ]
    }
   ],
   "source": [
    "from sklearn.linear_model import LogisticRegression\n",
    "from sklearn.preprocessing import StandardScaler\n",
    "from sklearn.metrics import accuracy_score, classification_report, confusion_matrix\n",
    "\n",
    "# Scale features\n",
    "scaler = StandardScaler()\n",
    "X_train_scaled = scaler.fit_transform(X_train)\n",
    "X_test_scaled = scaler.transform(X_test)\n",
    "\n",
    "# Train with increased iterations and class weight balancing\n",
    "logreg = LogisticRegression(max_iter=1000, class_weight='balanced', random_state=42)\n",
    "logreg.fit(X_train_scaled, y_train)\n",
    "\n",
    "# Predict and evaluate\n",
    "y_pred = logreg.predict(X_test_scaled)\n",
    "\n",
    "print(\"Accuracy:\", accuracy_score(y_test, y_pred))\n",
    "print(\"\\nConfusion Matrix:\\n\", confusion_matrix(y_test, y_pred))\n",
    "print(\"\\nClassification Report:\\n\", classification_report(y_test, y_pred))\n"
   ]
  },
  {
   "cell_type": "code",
   "execution_count": 131,
   "id": "823b114d",
   "metadata": {},
   "outputs": [
    {
     "name": "stdout",
     "output_type": "stream",
     "text": [
      "Accuracy: 0.8285714285714286\n",
      "\n",
      "Confusion Matrix:\n",
      " [[48  5]\n",
      " [ 7 10]]\n",
      "\n",
      "Classification Report:\n",
      "               precision    recall  f1-score   support\n",
      "\n",
      "           0       0.87      0.91      0.89        53\n",
      "           1       0.67      0.59      0.62        17\n",
      "\n",
      "    accuracy                           0.83        70\n",
      "   macro avg       0.77      0.75      0.76        70\n",
      "weighted avg       0.82      0.83      0.82        70\n",
      "\n"
     ]
    }
   ],
   "source": [
    "from sklearn.ensemble import RandomForestClassifier\n",
    "from sklearn.metrics import accuracy_score, confusion_matrix, classification_report\n",
    "\n",
    "# Train the model\n",
    "rf = RandomForestClassifier(class_weight='balanced', random_state=42)\n",
    "rf.fit(X_train, y_train)\n",
    "\n",
    "# Predict\n",
    "y_pred_rf = rf.predict(X_test)\n",
    "\n",
    "# Evaluate\n",
    "print(\"Accuracy:\", accuracy_score(y_test, y_pred_rf))\n",
    "print(\"\\nConfusion Matrix:\\n\", confusion_matrix(y_test, y_pred_rf))\n",
    "print(\"\\nClassification Report:\\n\", classification_report(y_test, y_pred_rf))\n"
   ]
  },
  {
   "cell_type": "code",
   "execution_count": 132,
   "id": "a7eaa493",
   "metadata": {},
   "outputs": [
    {
     "name": "stdout",
     "output_type": "stream",
     "text": [
      "Fitting 5 folds for each of 192 candidates, totalling 960 fits\n",
      "Best Params: {'class_weight': 'balanced_subsample', 'max_depth': 20, 'max_features': 'sqrt', 'min_samples_split': 10, 'n_estimators': 100}\n",
      "Classification Report:\n",
      "               precision    recall  f1-score   support\n",
      "\n",
      "           0       0.90      0.81      0.85        53\n",
      "           1       0.55      0.71      0.62        17\n",
      "\n",
      "    accuracy                           0.79        70\n",
      "   macro avg       0.72      0.76      0.73        70\n",
      "weighted avg       0.81      0.79      0.79        70\n",
      "\n",
      "Confusion Matrix:\n",
      " [[43 10]\n",
      " [ 5 12]]\n"
     ]
    }
   ],
   "source": [
    "from sklearn.model_selection import GridSearchCV\n",
    "from sklearn.ensemble import RandomForestClassifier\n",
    "\n",
    "# Expanded parameter grid\n",
    "param_grid = {\n",
    "    'n_estimators': [100, 200, 300, 500],\n",
    "    'max_depth': [5, 10, 20, None],\n",
    "    'min_samples_split': [2, 5, 10],\n",
    "    'max_features': ['sqrt', 'log2'],\n",
    "    'class_weight': ['balanced', 'balanced_subsample']\n",
    "}\n",
    "\n",
    "# Initialize model\n",
    "rf = RandomForestClassifier(random_state=42)\n",
    "\n",
    "# GridSearch\n",
    "grid_search = GridSearchCV(\n",
    "    estimator=rf,\n",
    "    param_grid=param_grid,\n",
    "    scoring='f1_macro',   # better for class balance\n",
    "    cv=5,\n",
    "    n_jobs=-1,\n",
    "    verbose=1\n",
    ")\n",
    "\n",
    "# Fit the model\n",
    "grid_search.fit(X_train_scaled, y_train)\n",
    "\n",
    "# Evaluate\n",
    "from sklearn.metrics import classification_report, confusion_matrix\n",
    "\n",
    "best_model = grid_search.best_estimator_\n",
    "y_pred = best_model.predict(X_test_scaled)\n",
    "\n",
    "print(\"Best Params:\", grid_search.best_params_)\n",
    "print(\"Classification Report:\\n\", classification_report(y_test, y_pred))\n",
    "print(\"Confusion Matrix:\\n\", confusion_matrix(y_test, y_pred))\n",
    "\n"
   ]
  },
  {
   "cell_type": "code",
   "execution_count": 133,
   "id": "200be5e7",
   "metadata": {},
   "outputs": [
    {
     "name": "stdout",
     "output_type": "stream",
     "text": [
      "Best Params: {'class_weight': 'balanced_subsample', 'max_depth': 20, 'max_features': 'sqrt', 'min_samples_split': 10, 'n_estimators': 100}\n",
      "Accuracy: 0.7857142857142857\n",
      "\n",
      "Confusion Matrix:\n",
      " [[43 10]\n",
      " [ 5 12]]\n",
      "\n",
      "Classification Report:\n",
      "               precision    recall  f1-score   support\n",
      "\n",
      "           0       0.90      0.81      0.85        53\n",
      "           1       0.55      0.71      0.62        17\n",
      "\n",
      "    accuracy                           0.79        70\n",
      "   macro avg       0.72      0.76      0.73        70\n",
      "weighted avg       0.81      0.79      0.79        70\n",
      "\n"
     ]
    }
   ],
   "source": [
    "best_rf = grid_search.best_estimator_\n",
    "\n",
    "y_pred_rf = best_rf.predict(X_test_scaled)\n",
    "\n",
    "print(\"Best Params:\", grid_search.best_params_)\n",
    "print(\"Accuracy:\", accuracy_score(y_test, y_pred_rf))\n",
    "print(\"\\nConfusion Matrix:\\n\", confusion_matrix(y_test, y_pred_rf))\n",
    "print(\"\\nClassification Report:\\n\", classification_report(y_test, y_pred_rf))\n"
   ]
  },
  {
   "cell_type": "code",
   "execution_count": 134,
   "id": "85bcbaae",
   "metadata": {},
   "outputs": [
    {
     "name": "stdout",
     "output_type": "stream",
     "text": [
      "SMOTE Accuracy: 0.7714285714285715\n",
      "\n",
      "Confusion Matrix:\n",
      " [[44  8]\n",
      " [ 8 10]]\n",
      "\n",
      "Classification Report:\n",
      "               precision    recall  f1-score   support\n",
      "\n",
      "           0       0.85      0.85      0.85        52\n",
      "           1       0.56      0.56      0.56        18\n",
      "\n",
      "    accuracy                           0.77        70\n",
      "   macro avg       0.70      0.70      0.70        70\n",
      "weighted avg       0.77      0.77      0.77        70\n",
      "\n"
     ]
    }
   ],
   "source": [
    "from sklearn.model_selection import train_test_split\n",
    "from sklearn.preprocessing import StandardScaler\n",
    "from imblearn.over_sampling import SMOTE\n",
    "from sklearn.ensemble import RandomForestClassifier\n",
    "from sklearn.metrics import accuracy_score, confusion_matrix, classification_report\n",
    "\n",
    "# Split (if not already done)\n",
    "# X, y should be defined earlier\n",
    "X_train, X_test, y_train, y_test = train_test_split(X, y, test_size=0.2, random_state=42)\n",
    "\n",
    "# Scale\n",
    "scaler = StandardScaler()\n",
    "X_train_scaled = scaler.fit_transform(X_train)\n",
    "X_test_scaled = scaler.transform(X_test)\n",
    "\n",
    "# SMOTE\n",
    "smote = SMOTE(random_state=42)\n",
    "X_train_smote, y_train_smote = smote.fit_resample(X_train_scaled, y_train)\n",
    "\n",
    "# Train\n",
    "smote_rf = RandomForestClassifier(\n",
    "    n_estimators=200,\n",
    "    max_depth=10,\n",
    "    min_samples_split=2,\n",
    "    class_weight='balanced',\n",
    "    random_state=42\n",
    ")\n",
    "smote_rf.fit(X_train_smote, y_train_smote)\n",
    "\n",
    "# Predict\n",
    "y_pred_smote = smote_rf.predict(X_test_scaled)\n",
    "\n",
    "# Evaluate\n",
    "print(\"SMOTE Accuracy:\", accuracy_score(y_test, y_pred_smote))\n",
    "print(\"\\nConfusion Matrix:\\n\", confusion_matrix(y_test, y_pred_smote))\n",
    "print(\"\\nClassification Report:\\n\", classification_report(y_test, y_pred_smote))"
   ]
  },
  {
   "cell_type": "code",
   "execution_count": 135,
   "id": "f31be2ac",
   "metadata": {},
   "outputs": [
    {
     "name": "stdout",
     "output_type": "stream",
     "text": [
      "Age               0\n",
      "Education         0\n",
      "Employment        0\n",
      "Income            0\n",
      "Marital status    0\n",
      "Violence          0\n",
      "dtype: int64\n",
      "Violence\n",
      "no     0.752161\n",
      "yes    0.247839\n",
      "Name: proportion, dtype: float64\n"
     ]
    }
   ],
   "source": [
    "# Check for missing values\n",
    "print(df.isnull().sum())\n",
    "\n",
    "# Confirm class balance\n",
    "print(df['Violence'].value_counts(normalize=True))\n"
   ]
  },
  {
   "cell_type": "code",
   "execution_count": 136,
   "id": "2b007ef7",
   "metadata": {},
   "outputs": [
    {
     "name": "stdout",
     "output_type": "stream",
     "text": [
      "6\n",
      "Index(['SL. No', 'Age', 'Education', 'Employment', 'Income', 'Marital status'], dtype='object')\n"
     ]
    }
   ],
   "source": [
    "print(X_train.shape[1])\n",
    "print(X_train.columns if hasattr(X_train, 'columns') else X.columns)"
   ]
  },
  {
   "cell_type": "code",
   "execution_count": null,
   "id": "80d76c0b",
   "metadata": {},
   "outputs": [
    {
     "data": {
      "text/plain": [
       "['violence_rf_model.pkl']"
      ]
     },
     "execution_count": 138,
     "metadata": {},
     "output_type": "execute_result"
    }
   ],
   "source": [
    "features = ['Age', 'Education', 'Marital status', 'Employment']  # whatever you want in the input\n",
    "X = df_model[features]\n",
    "y = df_model['Violence']\n",
    "\n",
    "# Now scale and train\n",
    "scaler = StandardScaler()\n",
    "X_scaled = scaler.fit_transform(X)\n",
    "model = RandomForestClassifier()\n",
    "model.fit(X_scaled, y)\n",
    "\n",
    "# Save\n",
    "joblib.dump(scaler, 'scaler.pkl')\n",
    "joblib.dump(model, 'violence_rf_model.pkl')\n",
    "\n"
   ]
  }
 ],
 "metadata": {
  "kernelspec": {
   "display_name": "Python 3",
   "language": "python",
   "name": "python3"
  },
  "language_info": {
   "codemirror_mode": {
    "name": "ipython",
    "version": 3
   },
   "file_extension": ".py",
   "mimetype": "text/x-python",
   "name": "python",
   "nbconvert_exporter": "python",
   "pygments_lexer": "ipython3",
   "version": "3.13.2"
  }
 },
 "nbformat": 4,
 "nbformat_minor": 5
}
